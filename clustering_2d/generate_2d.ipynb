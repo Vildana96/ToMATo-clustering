{
 "cells": [
  {
   "cell_type": "code",
   "execution_count": 1,
   "id": "3d5a8d1c",
   "metadata": {},
   "outputs": [],
   "source": [
    "%run imports.ipynb"
   ]
  },
  {
   "cell_type": "code",
   "execution_count": 2,
   "id": "450fc17c",
   "metadata": {},
   "outputs": [],
   "source": [
    "from sklearn import datasets"
   ]
  },
  {
   "cell_type": "code",
   "execution_count": 3,
   "id": "aaeefdb5",
   "metadata": {},
   "outputs": [],
   "source": [
    "def generate(shape, n_samples, randomize=42, outliers_fraction = 0):\n",
    "    if (shape == \"blobs\"):\n",
    "        x,y = datasets.make_blobs(n_samples=n_samples, random_state=randomize)\n",
    "        vec = [[0.60834549, -0.63667341], [-0.40887718, 0.85253229]]\n",
    "        return np.dot(x, vec), y\n",
    "    if (shape == \"jinjang\"):\n",
    "        theta = np.sqrt(np.random.rand(n_samples))*2*np.pi # np.linspace(0,2*pi,100)\n",
    "        r_a = 2.5*theta + np.pi\n",
    "        data_a = np.array([np.cos(theta)*r_a, np.sin(theta)*r_a]).T \n",
    "        x_a = data_a + np.random.randn(n_samples,2)\n",
    "        r_b = -2.5*theta - np.pi\n",
    "        data_b = np.array([np.cos(theta)*r_b, np.sin(theta)*r_b]).T\n",
    "        x_b = data_b + np.random.randn(n_samples,2)\n",
    "        res_a = np.append(x_a, np.zeros((n_samples,1)), axis=1)\n",
    "        res_b = np.append(x_b, np.ones((n_samples,1)), axis=1)\n",
    "        res = np.append(res_a, res_b, axis=0)\n",
    "        np.random.shuffle(res)\n",
    "        return res[:,:2], res[:,2]\n",
    "    if (shape == \"noisy_jinjang\"):\n",
    "        n_outliers = int(outliers_fraction * n_samples)\n",
    "        n_inliers = n_samples - n_outliers\n",
    "        theta = np.sqrt(np.random.rand(n_inliers))*2*np.pi # np.linspace(0,2*pi,100)\n",
    "        r_a = 2.5*theta + np.pi\n",
    "        data_a = np.array([np.cos(theta)*r_a, np.sin(theta)*r_a]).T \n",
    "        x_a = data_a + np.random.randn(n_inliers,2)\n",
    "        r_b = -2.5*theta - np.pi\n",
    "        data_b = np.array([np.cos(theta)*r_b, np.sin(theta)*r_b]).T\n",
    "        x_b = data_b + np.random.randn(n_inliers,2)\n",
    "        res_a = np.append(x_a, np.zeros((n_inliers,1)), axis=1)\n",
    "        res_b = np.append(x_b, np.ones((n_inliers,1)), axis=1)\n",
    "        res = np.append(res_a, res_b, axis=0)\n",
    "        np.random.shuffle(res)\n",
    "        rng = np.random.RandomState(42)\n",
    "        X = np.concatenate([res[:,:2], rng.uniform(low=-25, high=25,\n",
    "                       size=(2*n_outliers, 2))], axis=0)\n",
    "        return X, res[:,2]\n",
    "    if (shape == \"moons\"):\n",
    "        noisy_moons = datasets.make_moons(n_samples=n_samples, noise=0.07, random_state = randomize)\n",
    "        return noisy_moons[0], noisy_moons[1]\n",
    "    if (shape == \"noisy_blob\"):\n",
    "        n_outliers = int(outliers_fraction * n_samples)\n",
    "        n_inliers = n_samples - n_outliers\n",
    "        X,y = make_blobs(centers=[[0, 0], [0, 0]], cluster_std=0.5,\n",
    "               random_state=0, n_samples=n_inliers, n_features=2)\n",
    "        rng = np.random.RandomState(42)\n",
    "        X = np.concatenate([X, rng.uniform(low=-6, high=6,\n",
    "                       size=(n_outliers, 2))], axis=0)\n",
    "        return X,y\n",
    "    if (shape == \"noisy_blobs\"):\n",
    "        n_outliers = int(outliers_fraction * n_samples)\n",
    "        n_inliers = n_samples - n_outliers\n",
    "        X,y =  make_blobs(centers=[[2, 2], [-2, -2]], cluster_std=[0.5, 0.5],\n",
    "               random_state=0, n_samples=n_inliers, n_features=2)\n",
    "        rng = np.random.RandomState(42)\n",
    "        X = np.concatenate([X, rng.uniform(low=-6, high=6,\n",
    "                       size=(n_outliers, 2))], axis=0)\n",
    "        return X,y\n",
    "    if (shape == \"noisy_blobs_diff\"):\n",
    "        n_outliers = int(outliers_fraction * n_samples)\n",
    "        n_inliers = n_samples - n_outliers\n",
    "        X,y =  make_blobs(centers=[[2, 2], [-2, -2]], cluster_std=[1.5, .3],\n",
    "               random_state=0, n_samples=n_inliers, n_features=2)\n",
    "        rng = np.random.RandomState(42)\n",
    "        X = np.concatenate([X, rng.uniform(low=-6, high=6,\n",
    "                       size=(n_outliers, 2))], axis=0)\n",
    "        return X,y\n",
    "    if (shape == \"noisy_moons\"):\n",
    "        n_outliers = int(outliers_fraction * n_samples)\n",
    "        n_inliers = n_samples - n_outliers\n",
    "        X =  4. *(make_moons(n_samples=n_inliers, noise=.05, random_state=0)[0] -\n",
    "          np.array([0.5, 0.25]))\n",
    "        rng = np.random.RandomState(42)\n",
    "        X = np.concatenate([X, rng.uniform(low=-6, high=6,\n",
    "                       size=(n_outliers, 2))], axis=0)\n",
    "        return X, 1\n",
    "    if (shape == \"aniso\"):\n",
    "        # Anisotropicly distributed data\n",
    "        X, y = datasets.make_blobs(n_samples=n_samples, random_state=170)\n",
    "        transformation = [[0.6, -0.6], [-0.4, 0.8]]\n",
    "        X_aniso = np.dot(X, transformation)\n",
    "        aniso = (X_aniso, y)\n",
    "        return aniso"
   ]
  },
  {
   "cell_type": "code",
   "execution_count": 4,
   "id": "d51504b1",
   "metadata": {},
   "outputs": [],
   "source": [
    "shape = \"aniso\"\n",
    "n_samples = 3000\n",
    "outliers_fraction = 0.05"
   ]
  },
  {
   "cell_type": "code",
   "execution_count": 5,
   "id": "9f91ffc7",
   "metadata": {},
   "outputs": [],
   "source": [
    "gen = generate(n_samples=n_samples, shape=shape, outliers_fraction=outliers_fraction)"
   ]
  },
  {
   "cell_type": "code",
   "execution_count": 6,
   "id": "9a74ea76",
   "metadata": {},
   "outputs": [],
   "source": [
    "x=gen[0]\n",
    "y=gen[1]"
   ]
  },
  {
   "cell_type": "code",
   "execution_count": 7,
   "id": "f54bca70",
   "metadata": {},
   "outputs": [
    {
     "data": {
      "text/plain": [
       "<matplotlib.collections.PathCollection at 0x1ef15292ca0>"
      ]
     },
     "execution_count": 7,
     "metadata": {},
     "output_type": "execute_result"
    },
    {
     "data": {
      "image/png": "[encoded data removed]",
      "text/plain": [
       "<Figure size 432x288 with 1 Axes>"
      ]
     },
     "metadata": {
      "needs_background": "light"
     },
     "output_type": "display_data"
    }
   ],
   "source": [
    "plt.scatter(x[:,0], x[:,1], s= 0.8)"
   ]
  },
  {
   "cell_type": "code",
   "execution_count": null,
   "id": "5ba1a7ce",
   "metadata": {},
   "outputs": [],
   "source": []
  },
  {
   "cell_type": "code",
   "execution_count": null,
   "id": "9302e297",
   "metadata": {},
   "outputs": [],
   "source": []
  }
 ],
 "metadata": {
  "kernelspec": {
   "display_name": "Python 3",
   "language": "python",
   "name": "python3"
  },
  "language_info": {
   "codemirror_mode": {
    "name": "ipython",
    "version": 3
   },
   "file_extension": ".py",
   "mimetype": "text/x-python",
   "name": "python",
   "nbconvert_exporter": "python",
   "pygments_lexer": "ipython3",
   "version": "3.8.8"
  }
 },
 "nbformat": 4,
 "nbformat_minor": 5
}
