{
 "cells": [
  {
   "cell_type": "code",
   "execution_count": null,
   "metadata": {},
   "outputs": [],
   "source": [
    "%run imports.ipynb"
   ]
  },
  {
   "cell_type": "code",
   "execution_count": null,
   "metadata": {},
   "outputs": [],
   "source": [
    "# Implementation of the UnionFind algorithm\n",
    "\n",
    "class UnionFind:\n",
    "    \n",
    "    # Initialization\n",
    "    def __init__(self):\n",
    "\n",
    "        self.num_weights = {}\n",
    "        self.parent_pointers = {}\n",
    "        self.num_to_objects = {}\n",
    "        self.objects_to_num = {}\n",
    "        \n",
    "    # Insert objects among the already existing ones\n",
    "    def insert_objects(self, objects):\n",
    "\n",
    "        for object in objects: self.find(object)\n",
    "            \n",
    "    # Find a given object / build it if non-existing\n",
    "    def find(self, object):\n",
    "\n",
    "        if not object in self.objects_to_num:\n",
    "\n",
    "            obj_num = len(self.objects_to_num)\n",
    "            self.num_weights[obj_num] = 1\n",
    "            self.objects_to_num[object] = obj_num\n",
    "            self.num_to_objects[obj_num] = object\n",
    "            self.parent_pointers[obj_num] = obj_num\n",
    "\n",
    "            return object\n",
    "        \n",
    "        stk = [self.objects_to_num[object]]\n",
    "        par = self.parent_pointers[stk[-1]]\n",
    "\n",
    "        while par != stk[-1]:\n",
    "            stk.append(par)\n",
    "            par = self.parent_pointers[par]\n",
    "\n",
    "        for i in stk: self.parent_pointers[i] = par\n",
    "            \n",
    "        return self.num_to_objects[par]\n",
    "    \n",
    "    # Link two different objects in a same distinct set\n",
    "    def union(self, object1, object2):\n",
    "\n",
    "        o1p = self.find(object1)\n",
    "        o2p = self.find(object2)\n",
    "        \n",
    "        if o1p != o2p:\n",
    "        \t\n",
    "            on1 = self.objects_to_num[o1p]\n",
    "            on2 = self.objects_to_num[o2p]\n",
    "            w1 = self.num_weights[on1]\n",
    "            w2 = self.num_weights[on2]\n",
    "\n",
    "            if w1 < w2: o1p, o2p, on1, on2, w1, w2 = o2p, o1p, on2, on1, w2, w1\n",
    "\n",
    "            self.num_weights[on1] = w1+w2\n",
    "            del self.num_weights[on2]\n",
    "            self.parent_pointers[on2] = on1"
   ]
  }
 ],
 "metadata": {
  "kernelspec": {
   "display_name": "Python 3",
   "language": "python",
   "name": "python3"
  },
  "language_info": {
   "codemirror_mode": {
    "name": "ipython",
    "version": 3
   },
   "file_extension": ".py",
   "mimetype": "text/x-python",
   "name": "python",
   "nbconvert_exporter": "python",
   "pygments_lexer": "ipython3",
   "version": "3.8.8"
  }
 },
 "nbformat": 4,
 "nbformat_minor": 4
}
