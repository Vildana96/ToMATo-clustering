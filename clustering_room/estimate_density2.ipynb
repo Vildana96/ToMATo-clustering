{
 "cells": [
  {
   "cell_type": "code",
   "execution_count": 1,
   "id": "75a5044b",
   "metadata": {},
   "outputs": [],
   "source": [
    "%run imports.ipynb"
   ]
  },
  {
   "cell_type": "code",
   "execution_count": 2,
   "id": "939862f3",
   "metadata": {},
   "outputs": [],
   "source": [
    "from sklearn.neighbors import KernelDensity"
   ]
  },
  {
   "cell_type": "code",
   "execution_count": 4,
   "id": "933ef93a",
   "metadata": {},
   "outputs": [],
   "source": [
    "from random import randrange\n",
    "x_train = np.array([list(x[randrange(x.shape[0])]) for i in np.arange(50000)])"
   ]
  },
  {
   "cell_type": "code",
   "execution_count": 8,
   "id": "46f70c48",
   "metadata": {},
   "outputs": [
    {
     "name": "stdout",
     "output_type": "stream",
     "text": [
      "{'bandwidth': 0.020000000000000004}\n"
     ]
    }
   ],
   "source": [
    "from sklearn.model_selection import GridSearchCV\n",
    "grid = GridSearchCV(KernelDensity(),\n",
    "                    {'bandwidth': np.linspace(0.01, 0.1, 10)},\n",
    "                    cv=10) # 20-fold cross-validation\n",
    "grid.fit(x_train)\n",
    "print(grid.best_params_)\n",
    "kde = grid.best_estimator_ "
   ]
  },
  {
   "cell_type": "code",
   "execution_count": 9,
   "id": "9fd96380",
   "metadata": {},
   "outputs": [
    {
     "data": {
      "text/plain": [
       "1.9025725640692024"
      ]
     },
     "execution_count": 9,
     "metadata": {},
     "output_type": "execute_result"
    }
   ],
   "source": [
    "#bandwidth = 0.02\n",
    "#kde = KernelDensity(bandwidth=bandwidth, kernel='gaussian')"
   ]
  },
  {
   "cell_type": "code",
   "execution_count": 10,
   "id": "9ac91d77",
   "metadata": {},
   "outputs": [
    {
     "data": {
      "text/plain": [
       "KernelDensity(bandwidth=1.9025725640692024)"
      ]
     },
     "execution_count": 10,
     "metadata": {},
     "output_type": "execute_result"
    }
   ],
   "source": [
    "kde.fit(x)"
   ]
  },
  {
   "cell_type": "code",
   "execution_count": null,
   "id": "7cd03502",
   "metadata": {},
   "outputs": [],
   "source": [
    "logprob = kde.score_samples(x)"
   ]
  },
  {
   "cell_type": "code",
   "execution_count": null,
   "id": "d26f9394",
   "metadata": {},
   "outputs": [],
   "source": [
    "vec = np.exp(logprob)"
   ]
  },
  {
   "cell_type": "code",
   "execution_count": null,
   "id": "f1980015",
   "metadata": {},
   "outputs": [],
   "source": [
    "%matplotlib inline\n",
    "plt.fill_between(np.arange(len(x)), vec, alpha=0.5)"
   ]
  },
  {
   "cell_type": "code",
   "execution_count": null,
   "id": "5f1630b6",
   "metadata": {},
   "outputs": [],
   "source": []
  }
 ],
 "metadata": {
  "kernelspec": {
   "display_name": "Python 3",
   "language": "python",
   "name": "python3"
  },
  "language_info": {
   "codemirror_mode": {
    "name": "ipython",
    "version": 3
   },
   "file_extension": ".py",
   "mimetype": "text/x-python",
   "name": "python",
   "nbconvert_exporter": "python",
   "pygments_lexer": "ipython3",
   "version": "3.8.8"
  }
 },
 "nbformat": 4,
 "nbformat_minor": 5
}
